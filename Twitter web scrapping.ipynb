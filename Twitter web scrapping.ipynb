{
 "cells": [
  {
   "cell_type": "code",
   "execution_count": 3,
   "id": "ba9ac7ce",
   "metadata": {},
   "outputs": [
    {
     "name": "stdout",
     "output_type": "stream",
     "text": [
      "Enter the twitter URL:\n",
      "https://twitter.com/Patel_Zenil\n"
     ]
    },
    {
     "name": "stderr",
     "output_type": "stream",
     "text": [
      "C:\\Users\\Manish\\AppData\\Local\\Temp\\ipykernel_29300\\367136205.py:19: DeprecationWarning: executable_path has been deprecated, please pass in a Service object\n",
      "  driver=webdriver.Chrome(PATH)\n"
     ]
    },
    {
     "name": "stdout",
     "output_type": "stream",
     "text": [
      "[{'Profile': '@Patel_Zenil', 'Biography': 'I m çãr & mús!ç enthusiast.\\n\\nJust trying to convert my dreams into reality.\\n\\n#ITStudent at SSEC, BHAVNAGAR', 'following_count': '139 Following', 'followers_count': '45 Followers', 'number_of_tweets': '206 Tweets'}]\n"
     ]
    }
   ],
   "source": [
    "from bs4 import BeautifulSoup\n",
    "from selenium import webdriver\n",
    "import time\n",
    "\n",
    "\n",
    "\n",
    "PATH = ' C:/Program Files/Google/Chrome/Application/chrome.exe'\n",
    "\n",
    "\n",
    "output=[]\n",
    "temp={}\n",
    "\n",
    "\n",
    "print('Enter the twitter URL:')\n",
    "target_url =  input()\n",
    "\n",
    "\n",
    "\n",
    "driver=webdriver.Chrome(PATH)\n",
    "\n",
    "\n",
    "try:\n",
    "    driver.get(target_url)\n",
    "    time.sleep(2)\n",
    "\n",
    "\n",
    "\n",
    "    response = driver.page_source\n",
    "\n",
    "    soup=BeautifulSoup(response,'html.parser')\n",
    "\n",
    "\n",
    "\n",
    "\n",
    "    temp[\"Profile\"]=soup.find(\"div\",{\"class\":\"r-1wvb978\"}).text\n",
    "\n",
    "\n",
    "    temp[\"Biography\"]=soup.find(\"div\",{\"data-testid\":\"UserDescription\"}).text\n",
    "\n",
    "    temp[\"following_count\"]=soup.find_all(\"a\",{\"class\":\"r-rjixqe\"})[0].text\n",
    "\n",
    "    temp[\"followers_count\"]=soup.find_all(\"a\",{\"class\":\"r-rjixqe\"})[1].text\n",
    "\n",
    "    temp[\"number_of_tweets\"]=soup.find(\"div\",{\"class\":\"r-1bwzh9t\"}).text\n",
    "\n",
    "\n",
    "\n",
    "\n",
    "    output.append(temp)\n",
    "\n",
    "    print(output)\n",
    "except:\n",
    "    print(\"URL Not found\")\n",
    "finally:\n",
    "    driver.close()"
   ]
  },
  {
   "cell_type": "code",
   "execution_count": null,
   "id": "4c6eeeb0",
   "metadata": {},
   "outputs": [],
   "source": []
  }
 ],
 "metadata": {
  "kernelspec": {
   "display_name": "Python 3 (ipykernel)",
   "language": "python",
   "name": "python3"
  },
  "language_info": {
   "codemirror_mode": {
    "name": "ipython",
    "version": 3
   },
   "file_extension": ".py",
   "mimetype": "text/x-python",
   "name": "python",
   "nbconvert_exporter": "python",
   "pygments_lexer": "ipython3",
   "version": "3.10.4"
  }
 },
 "nbformat": 4,
 "nbformat_minor": 5
}
